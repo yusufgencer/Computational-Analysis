{
 "cells": [
  {
   "cell_type": "markdown",
   "id": "51648d83",
   "metadata": {},
   "source": [
    " Cubic spline interpolation is a special case for Spline interpolation that is used very often to avoid the\n",
    "problem of Runge's phenomenon. This method gives an interpolating polynomial that is smoother and\n",
    "has smaller error than some other interpolating polynomials such as Lagrange polynomial and Newton\n",
    "polynomial. \n"
   ]
  },
  {
   "cell_type": "code",
   "execution_count": null,
   "id": "7377fd08",
   "metadata": {},
   "outputs": [],
   "source": [
    "from typing import Tuple, List\n",
    "import bisect\n",
    "import matplotlib.pyplot as plt "
   ]
  },
  {
   "cell_type": "code",
   "execution_count": 3,
   "id": "d5da57aa",
   "metadata": {},
   "outputs": [],
   "source": [
    "def compute_changes(x: List[float]) -> List[float]:\n",
    "    return [x[i+1] - x[i] for i in range(len(x) - 1)] "
   ]
  },
  {
   "cell_type": "code",
   "execution_count": 4,
   "id": "2ba650a2",
   "metadata": {},
   "outputs": [],
   "source": [
    "def create_tridiagonalmatrix(n: int, h: List[float]) -> Tuple[List[float], List[float], List[float]]:\n",
    "    A = [h[i] / (h[i] + h[i + 1]) for i in range(n - 2)] + [0]\n",
    "    B = [2] * n\n",
    "    C = [0] + [h[i + 1] / (h[i] + h[i + 1]) for i in range(n - 2)]\n",
    "    return A, B, C "
   ]
  },
  {
   "cell_type": "code",
   "execution_count": 5,
   "id": "ec299e4f",
   "metadata": {},
   "outputs": [],
   "source": [
    "def create_target(n: int, h: List[float], y: List[float]):\n",
    "    return [0] + [6 * ((y[i + 1] - y[i]) / h[i] - (y[i] - y[i - 1]) / h[i - 1]) / (h[i] + h[i-1]) for i in range(1, n - 1)] + [0] "
   ]
  },
  {
   "cell_type": "code",
   "execution_count": 6,
   "id": "c9567141",
   "metadata": {},
   "outputs": [],
   "source": [
    "def solve_tridiagonalsystem(A: List[float], B: List[float], C: List[float], D: List[float]):\n",
    "    c_p = C + [0]\n",
    "    d_p = [0] * len(B)\n",
    "    X = [0] * len(B) \n",
    "    c_p[0] = C[0] / B[0]\n",
    "    d_p[0] = D[0] / B[0]\n",
    "    for i in range(1, len(B)): \n",
    "        c_p[i] = c_p[i] / (B[i] - c_p[i - 1] * A[i - 1])\n",
    "        d_p[i] = (D[i] - d_p[i - 1] * A[i - 1]) / (B[i] - c_p[i - 1] * A[i - 1]) \n",
    "    X[-1] = d_p[-1]\n",
    "    for i in range(len(B) - 2, -1, -1):\n",
    "        X[i] = d_p[i] - c_p[i] * X[i + 1] \n",
    "    return X "
   ]
  },
  {
   "cell_type": "code",
   "execution_count": 7,
   "id": "03da657c",
   "metadata": {},
   "outputs": [],
   "source": [
    "def compute_spline(x: List[float], y: List[float]):\n",
    "    n = len(x)\n",
    "    if n < 3:\n",
    "        raise ValueError('Too short an array')\n",
    "    if n != len(y):\n",
    "        raise ValueError('Array lengths are different') \n",
    "    h = compute_changes(x)\n",
    "    if any(v < 0 for v in h):\n",
    "        raise ValueError('X must be strictly increasing')\n",
    "    A, B, C = create_tridiagonalmatrix(n, h)\n",
    "    D = create_target(n, h, y)\n",
    "    M = solve_tridiagonalsystem(A, B, C, D)\n",
    "    coefficients = [[(M[i+1]-M[i])*h[i]*h[i]/6, M[i]*h[i]*h[i]/2, (y[i+1] - y[i] - (M[i+1]+2*M[i])*h[i]*h[i]/6),\n",
    "y[i]] for i in range(n-1)] \n",
    "    def spline(val):\n",
    "        idx = min(bisect.bisect(x, val)-1, n-2)\n",
    "        z = (val - x[idx]) / h[idx]\n",
    "        C = coefficients[idx]\n",
    "        return (((C[0] * z) + C[1]) * z + C[2]) * z + C[3]\n",
    "    return spline "
   ]
  },
  {
   "cell_type": "code",
   "execution_count": 8,
   "id": "f22d68c3",
   "metadata": {},
   "outputs": [
    {
     "data": {
      "text/plain": [
       "[<matplotlib.lines.Line2D at 0x25ac7e4f5c0>]"
      ]
     },
     "execution_count": 8,
     "metadata": {},
     "output_type": "execute_result"
    },
    {
     "data": {
      "image/png": "[encoded data removed]",
      "text/plain": [
       "<Figure size 432x288 with 1 Axes>"
      ]
     },
     "metadata": {
      "needs_background": "light"
     },
     "output_type": "display_data"
    }
   ],
   "source": [
    "x_ = [0,1,2,3,4,5]\n",
    "y_ = [0,2,5,1,0,6]\n",
    "spline = compute_spline(x_, y_)\n",
    "for i, x in enumerate(x_):\n",
    "    assert abs(y_[i] - spline(x)) < 1e-8, f'Error at {x}, {y_[i]}'\n",
    "x_vals = [v / 10 for v in range(0, 50, 1)]\n",
    "y_vals = [spline(y) for y in x_vals]\n",
    "plt.plot(x_vals, y_vals) "
   ]
  }
 ],
 "metadata": {
  "kernelspec": {
   "display_name": "Python 3 (ipykernel)",
   "language": "python",
   "name": "python3"
  },
  "language_info": {
   "codemirror_mode": {
    "name": "ipython",
    "version": 3
   },
   "file_extension": ".py",
   "mimetype": "text/x-python",
   "name": "python",
   "nbconvert_exporter": "python",
   "pygments_lexer": "ipython3",
   "version": "3.7.3"
  }
 },
 "nbformat": 4,
 "nbformat_minor": 5
}
